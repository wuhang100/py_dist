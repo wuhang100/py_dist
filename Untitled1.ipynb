{
 "cells": [
  {
   "cell_type": "code",
   "execution_count": 1,
   "metadata": {},
   "outputs": [
    {
     "name": "stderr",
     "output_type": "stream",
     "text": [
      "Using TensorFlow backend.\n"
     ]
    }
   ],
   "source": [
    "import matplotlib.pyplot as plt\n",
    "import numpy as np\n",
    "from keras.layers.core import Dense, Activation, Dropout\n",
    "from keras.layers import Dense,Dropout,Flatten,Conv2D,MaxPooling2D\n",
    "from keras.models import Sequential, load_model\n",
    "import mysql.connector\n",
    "from keras.optimizers import Adam\n",
    "from sklearn import preprocessing\n",
    "import datetime\n",
    "from sklearn import datasets\n",
    "from sklearn.cluster import KMeans\n",
    "cnx = mysql.connector.connect(user='root', password='941012',\n",
    "                              host='127.0.0.1',\n",
    "                              database='test0')\n",
    "cursor = cnx.cursor()\n",
    "query = (\"SELECT n1,n2,P1,T1,P2,T2 FROM test0.2016stablepoint LIMIT 1,25000\")\n",
    "cursor.execute(query)\n",
    "result=cursor.fetchall()\n",
    "x_list = np.array(result)\n",
    "scaler = preprocessing.StandardScaler().fit(x_list)\n",
    "train_x = scaler.transform(x_list)\n",
    "#print train_x\n",
    "query = (\"SELECT T34 FROM test0.2016stablepoint LIMIT 1,25000\")\n",
    "cursor.execute(query)\n",
    "result = cursor.fetchall()\n",
    "y_list = np.array(result)"
   ]
  },
  {
   "cell_type": "code",
   "execution_count": 8,
   "metadata": {
    "collapsed": true
   },
   "outputs": [],
   "source": [
    "y_pred = KMeans(n_clusters=6, random_state=10).fit_predict(x_list)"
   ]
  },
  {
   "cell_type": "code",
   "execution_count": 17,
   "metadata": {},
   "outputs": [
    {
     "name": "stdout",
     "output_type": "stream",
     "text": [
      "x_list 25000\n",
      "inputdata01 12501\n",
      "inputdata11 12499\n",
      "outdata01 12501\n",
      "outdata11 12499\n"
     ]
    }
   ],
   "source": [
    "inputdata01 = np.ones((1,6))\n",
    "inputdata11 = np.ones((1,6))\n",
    "outdata01 = np.ones((1,1))\n",
    "outdata11 = np.ones((1,1))\n",
    "\n",
    "list_0 = np.where(y_pred == 0)\n",
    "list_01 = np.array_split(list_0[0], 2, axis = 0)[0]\n",
    "list_02 = np.array_split(list_0[0], 2, axis = 0)[1]\n",
    "for i in range (0,len(list_01)):\n",
    "    new_input = x_list[list_01[i],:]\n",
    "    inputdata01 = np.vstack((inputdata01,new_input))\n",
    "    new_output = y_list[list_01[i],:]\n",
    "    outdata01 = np.vstack((outdata01,new_output))\n",
    "for i in range (0,len(list_02)):\n",
    "    new_input = x_list[list_02[i],:]\n",
    "    inputdata11 = np.vstack((inputdata11,new_input))  \n",
    "    new_output = y_list[list_02[i],:]\n",
    "    outdata11 = np.vstack((outdata11,new_output))\n",
    "\n",
    "list_1 = np.where(y_pred == 1)\n",
    "list_11 = np.array_split(list_1[0], 2, axis = 0)[0]\n",
    "list_12 = np.array_split(list_1[0], 2, axis = 0)[1]\n",
    "for i in range (0,len(list_11)):\n",
    "    new_input = x_list[list_11[i],:]\n",
    "    inputdata01 = np.vstack((inputdata01,new_input))\n",
    "    new_output = y_list[list_11[i],:]\n",
    "    outdata01 = np.vstack((outdata01,new_output))\n",
    "for i in range (0,len(list_12)):\n",
    "    new_input = x_list[list_12[i],:]\n",
    "    inputdata11 = np.vstack((inputdata11,new_input))\n",
    "    new_output = y_list[list_12[i],:]\n",
    "    outdata11 = np.vstack((outdata11,new_output))\n",
    "    \n",
    "list_2 = np.where(y_pred == 2)\n",
    "list_21 = np.array_split(list_2[0], 2, axis = 0)[0]\n",
    "list_22 = np.array_split(list_2[0], 2, axis = 0)[1]\n",
    "for i in range (0,len(list_21)):\n",
    "    new_input = x_list[list_21[i],:]\n",
    "    inputdata01 = np.vstack((inputdata01,new_input))\n",
    "    new_output = y_list[list_21[i],:]\n",
    "    outdata01 = np.vstack((outdata01,new_output))    \n",
    "for i in range (0,len(list_22)):\n",
    "    new_input = x_list[list_22[i],:]\n",
    "    inputdata11 = np.vstack((inputdata11,new_input)) \n",
    "    new_output = y_list[list_22[i],:]\n",
    "    outdata11 = np.vstack((outdata11,new_output))    \n",
    "    \n",
    "list_3 = np.where(y_pred == 3)\n",
    "list_31 = np.array_split(list_3[0], 2, axis = 0)[0]\n",
    "list_32 = np.array_split(list_3[0], 2, axis = 0)[1]\n",
    "for i in range (0,len(list_31)):\n",
    "    new_input = x_list[list_31[i],:]\n",
    "    inputdata01 = np.vstack((inputdata01,new_input))\n",
    "    new_output = y_list[list_31[i],:]\n",
    "    outdata01 = np.vstack((outdata01,new_output))\n",
    "for i in range (0,len(list_32)):\n",
    "    new_input = x_list[list_32[i],:]\n",
    "    inputdata11 = np.vstack((inputdata11,new_input)) \n",
    "    new_output = y_list[list_32[i],:]\n",
    "    outdata11 = np.vstack((outdata11,new_output))\n",
    "    \n",
    "list_4 = np.where(y_pred == 4)\n",
    "list_41 = np.array_split(list_4[0], 2, axis = 0)[0]\n",
    "list_42 = np.array_split(list_4[0], 2, axis = 0)[1]\n",
    "for i in range (0,len(list_41)):\n",
    "    new_input = x_list[list_41[i],:]\n",
    "    inputdata01 = np.vstack((inputdata01,new_input))\n",
    "    new_output = y_list[list_41[i],:]\n",
    "    outdata01 = np.vstack((outdata01,new_output))\n",
    "for i in range (0,len(list_42)):\n",
    "    new_input = x_list[list_42[i],:]\n",
    "    inputdata11 = np.vstack((inputdata11,new_input)) \n",
    "    new_output = y_list[list_42[i],:]\n",
    "    outdata11 = np.vstack((outdata11,new_output))\n",
    "    \n",
    "list_5 = np.where(y_pred == 5)\n",
    "list_51 = np.array_split(list_5[0], 2, axis = 0)[0]\n",
    "list_52 = np.array_split(list_5[0], 2, axis = 0)[1]\n",
    "for i in range (0,len(list_51)):\n",
    "    new_input = x_list[list_51[i],:]\n",
    "    inputdata01 = np.vstack((inputdata01,new_input))\n",
    "    new_output = y_list[list_51[i],:]\n",
    "    outdata01 = np.vstack((outdata01,new_output))\n",
    "for i in range (0,len(list_52)):\n",
    "    new_input = x_list[list_52[i],:]\n",
    "    inputdata11 = np.vstack((inputdata11,new_input)) \n",
    "    new_output = y_list[list_52[i],:]\n",
    "    outdata11 = np.vstack((outdata11,new_output))\n",
    "    \n",
    "inputdata01 = inputdata01[1:,:]\n",
    "inputdata11 = inputdata11[1:,:]\n",
    "\n",
    "outdata01 = outdata01[1:,:]\n",
    "outdata11 = outdata11[1:,:]\n",
    "    \n",
    "print 'x_list '+str(len(x_list))    \n",
    "print 'inputdata01 '+str(len(inputdata01))\n",
    "print 'inputdata11 '+str(len(inputdata11))\n",
    "print 'outdata01 '+str(len(outdata01))\n",
    "print 'outdata11 '+str(len(outdata11))"
   ]
  },
  {
   "cell_type": "code",
   "execution_count": null,
   "metadata": {
    "collapsed": true
   },
   "outputs": [],
   "source": []
  }
 ],
 "metadata": {
  "kernelspec": {
   "display_name": "Python 2",
   "language": "python",
   "name": "python2"
  },
  "language_info": {
   "codemirror_mode": {
    "name": "ipython",
    "version": 2
   },
   "file_extension": ".py",
   "mimetype": "text/x-python",
   "name": "python",
   "nbconvert_exporter": "python",
   "pygments_lexer": "ipython2",
   "version": "2.7.13"
  }
 },
 "nbformat": 4,
 "nbformat_minor": 2
}
