{
 "cells": [
  {
   "cell_type": "code",
   "execution_count": 1,
   "metadata": {},
   "outputs": [
    {
     "name": "stderr",
     "output_type": "stream",
     "text": [
      "Using TensorFlow backend.\n"
     ]
    }
   ],
   "source": [
    "import matplotlib.pyplot as plt\n",
    "import numpy as np\n",
    "from keras.layers.core import Dense, Activation, Dropout\n",
    "from keras.layers.recurrent import LSTM, GRU\n",
    "from keras.models import Sequential, load_model\n",
    "import mysql.connector\n",
    "from keras.optimizers import Adam\n",
    "from sklearn import preprocessing\n",
    "import datetime\n",
    "cnx = mysql.connector.connect(user='root', password='941012',\n",
    "                              host='127.0.0.1',\n",
    "                              database='test0')\n",
    "cursor = cnx.cursor()\n",
    "query = (\"SELECT n1,n2,P1,T1,P2,T2 FROM test0.2016stablepoint LIMIT 1,25000\")\n",
    "cursor.execute(query)\n",
    "result=cursor.fetchall()\n",
    "x_list = np.array(result)\n",
    "scaler = preprocessing.StandardScaler().fit(x_list)\n",
    "train_x = scaler.transform(x_list)\n",
    "#print train_x\n",
    "query = (\"SELECT T34 FROM test0.2016stablepoint LIMIT 1,25000\")\n",
    "cursor.execute(query)\n",
    "result=cursor.fetchall()\n",
    "y_list = np.array(result)\n",
    "y_list = y_list-1300*np.ones((y_list.shape[0], 1))\n",
    "#print y_list\n",
    "#print np.hstack((train_x,y_list))\n",
    "x_list = np.hstack((train_x,y_list))\n",
    "result = []\n",
    "sequence_length = 20\n",
    "for index in range(len(x_list) - sequence_length + 1):\n",
    "    result.append(x_list[index: index + sequence_length])\n",
    "result = np.array(result)\n",
    "#print result\n",
    "row1 = int(round(0.5 * result.shape[0]))\n",
    "row2 = int(round(0.9 * result.shape[0]))\n",
    "train = result[:row1, :]\n",
    "test = result[row2:, :]\n",
    "np.random.seed(10)\n",
    "np.random.shuffle(train)\n",
    "X_train = train[:,:,0:6]\n",
    "y_train = train[:,-1, -1]\n",
    "np.random.seed(10)\n",
    "np.random.shuffle(test)\n",
    "X_test = test[:,:,0:6]\n",
    "y_test = test[:,-1, -1]\n",
    "y_train = np.reshape(y_train, (y_train.shape[0],1))\n",
    "y_test = np.reshape(y_test, (y_test.shape[0],1))\n",
    "#print X_train\n",
    "#print y_train\n",
    "BATCH_INDEX = 0\n",
    "model = Sequential()\n",
    "# RNN cell\n",
    "layers = [6, 70, 100, 1]\n",
    "model.add(LSTM(\n",
    "        layers[1],\n",
    "        input_shape=(sequence_length,layers[0]),\n",
    "        return_sequences=True))\n",
    "model.add(Dropout(0.2))\n",
    "\n",
    "model.add(LSTM(\n",
    "        layers[2],\n",
    "        return_sequences=False))\n",
    "model.add(Dropout(0.2))\n",
    "\n",
    "model.add(Dense(\n",
    "    layers[3],activation='linear'))\n",
    "    #model.compile(loss=\"mse\", optimizer=\"rmsprop\", metrics=['accuracy'])\n",
    "model.compile(loss=\"mse\", optimizer=\"rmsprop\", metrics=['mae', 'mape'])\n",
    "\n",
    "cursor.close()\n",
    "cnx.close()\n",
    "from keras.callbacks import TensorBoard\n",
    "starttime = datetime.datetime.now()\n",
    "model.fit(\n",
    "    X_train, y_train,\n",
    "    batch_size=100, epochs=12,validation_split=0.1,verbose=0)\n",
    "endtime = datetime.datetime.now()"
   ]
  },
  {
   "cell_type": "code",
   "execution_count": 2,
   "metadata": {},
   "outputs": [
    {
     "name": "stdout",
     "output_type": "stream",
     "text": [
      "TIME:57s\n"
     ]
    },
    {
     "data": {
      "image/png": "[encoded data removed]",
      "text/plain": [
       "<matplotlib.figure.Figure at 0x7fb2106d5ed0>"
      ]
     },
     "metadata": {},
     "output_type": "display_data"
    }
   ],
   "source": [
    "row2 = int(round(0.5 * result.shape[0]))\n",
    "row3 = int(round(0.6 * result.shape[0]))\n",
    "train = result[:row1, :]\n",
    "test = result[row2:row3, :]\n",
    "np.random.seed(10)\n",
    "np.random.shuffle(train)\n",
    "X_train = train[:,:,0:6]\n",
    "y_train = train[:,-1, -1]\n",
    "np.random.seed(10)\n",
    "np.random.shuffle(test)\n",
    "X_test = test[:,:,0:6]\n",
    "y_test = test[:,-1, -1]\n",
    "y_train = np.reshape(y_train, (y_train.shape[0],1))\n",
    "y_test = np.reshape(y_test, (y_test.shape[0],1))\n",
    "\n",
    "print 'TIME:'+str((endtime - starttime).seconds)+'s'\n",
    "predicted = model.predict(X_test)\n",
    "predicted = predicted+1300*np.ones((predicted.shape[0], 1))\n",
    "y_test = y_test+1300*np.ones((y_test.shape[0], 1))\n",
    "#print X_test\n",
    "#print y_test\n",
    "predicted_pro = (np.mean(y_test)-np.mean(predicted))*np.ones(50)+predicted[0:50,0]\n",
    "#print y_test[1:30]\n",
    "fig = plt.figure()\n",
    "ax = fig.add_subplot(111)\n",
    "ax.plot(y_test[0:50],label=\"Real\")\n",
    "ax.legend(loc='upper left')\n",
    "plt.plot(predicted[0:50],label=\"Prediction\")\n",
    "plt.legend(loc='upper left')\n",
    "plt.ylim(1100,1450)\n",
    "acc = np.ones((y_test.shape[0],1))-abs((predicted-y_test)/y_test)\n",
    "acc = round(np.mean(acc),5)\n",
    "plt.title('Accuracy:'+str(100*acc)+'%')\n",
    "plt.show()\n",
    "from keras.utils import plot_model\n",
    "plot_model(model, to_file='model.png', show_shapes=True, show_layer_names=True)"
   ]
  },
  {
   "cell_type": "code",
   "execution_count": null,
   "metadata": {
    "collapsed": true
   },
   "outputs": [],
   "source": []
  }
 ],
 "metadata": {
  "kernelspec": {
   "display_name": "Python 2",
   "language": "python",
   "name": "python2"
  },
  "language_info": {
   "codemirror_mode": {
    "name": "ipython",
    "version": 2
   },
   "file_extension": ".py",
   "mimetype": "text/x-python",
   "name": "python",
   "nbconvert_exporter": "python",
   "pygments_lexer": "ipython2",
   "version": "2.7.13"
  }
 },
 "nbformat": 4,
 "nbformat_minor": 2
}
